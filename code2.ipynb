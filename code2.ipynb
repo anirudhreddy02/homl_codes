{
 "cells": [
  {
   "cell_type": "code",
   "execution_count": 113,
   "metadata": {},
   "outputs": [],
   "source": [
    "import numpy as np\n",
    "import matplotlib.pyplot as plt\n",
    "import pandas as pd\n",
    "from sklearn.datasets import load_iris"
   ]
  },
  {
   "cell_type": "code",
   "execution_count": 123,
   "metadata": {},
   "outputs": [],
   "source": [
    "data_iris = load_iris() \n",
    "df = pd.DataFrame(data_iris.data,columns=['a','b','c','d'])\n",
    "df['e'] = 1\n",
    "X_raw = data_iris.data\n",
    "X = np.c_[np.ones((150,1)),X_raw]\n",
    "y= np.array([0 if x == 0 else 1 for x in data_iris.target ])\n",
    "y=np.reshape(y,(150,1))\n",
    "obsv = len(y)\n",
    "params = 5\n",
    "cost_function_history = []"
   ]
  },
  {
   "cell_type": "code",
   "execution_count": 124,
   "metadata": {
    "scrolled": true
   },
   "outputs": [
    {
     "data": {
      "text/plain": [
       "(150, 1)"
      ]
     },
     "execution_count": 124,
     "metadata": {},
     "output_type": "execute_result"
    }
   ],
   "source": [
    "y.shape"
   ]
  },
  {
   "cell_type": "code",
   "execution_count": 125,
   "metadata": {},
   "outputs": [],
   "source": [
    "np.random.seed(42)\n",
    "theta = np.random.rand(5,1)"
   ]
  },
  {
   "cell_type": "code",
   "execution_count": null,
   "metadata": {},
   "outputs": [],
   "source": [
    "def compute(X,y,theta):\n",
    "    ws = X@theta\n",
    "    logit = 1/(1+np.exp(-ws))\n",
    "    y_hat_function = lambda x: 1 if x >=.7 else 0\n",
    "    y_hat = [y_hat_function(x) for x in logit ]\n",
    "    return logit,y_hat\n"
   ]
  },
  {
   "cell_type": "code",
   "execution_count": 178,
   "metadata": {},
   "outputs": [
    {
     "data": {
      "text/plain": [
       "21"
      ]
     },
     "execution_count": 178,
     "metadata": {},
     "output_type": "execute_result"
    }
   ],
   "source": [
    "def compute_ws(input_features,weights):\n",
    "    return input_features@weights\n",
    "def predict_probability(weighted_sum):\n",
    "    return 1/(1+np.exp(-weighted_sum))\n",
    "def predict_class(probability,threshold):\n",
    "    y_hat_function = lambda x: 1 if x >=threshold else 0\n",
    "    y_hat = [y_hat_function(x) for x in probability ]\n",
    "    return y_hat\n",
    "def cost_function(input_features,weights):\n",
    "    ws = compute_ws(input_features,weights)\n",
    "    p = predict_probability(ws)\n",
    "    cost_function = ((-y.T@np.log(p))+((y-1).T@np.log(1-p)))/obsv\n",
    "    cost_function_history.append(cost_function)\n",
    "\n",
    "cost_function(X,theta)\n",
    "len(cost_function_history)\n",
    "    "
   ]
  },
  {
   "cell_type": "code",
   "execution_count": 133,
   "metadata": {},
   "outputs": [],
   "source": [
    "def compute_Batch_GradientDescent(input_features,weights,y):\n",
    "    ws = compute_ws(input_features,weights)\n",
    "    p = predict_probability(ws)\n",
    "    gradients = (p-y).T@X\n",
    "    return gradients\n",
    "    \n",
    "    "
   ]
  },
  {
   "cell_type": "code",
   "execution_count": 142,
   "metadata": {},
   "outputs": [],
   "source": [
    "def update_weights(gradients,learning_rate,weights):\n",
    "    gradients = np.reshape(gradients,(5,1))\n",
    "    weights -= learning_rate*gradients\n",
    "    return weights"
   ]
  },
  {
   "cell_type": "code",
   "execution_count": 141,
   "metadata": {},
   "outputs": [
    {
     "data": {
      "text/plain": [
       "array([[ 49.98659496, 250.23401877, 171.35792458,  73.07610652,\n",
       "         12.294934  ]])"
      ]
     },
     "execution_count": 141,
     "metadata": {},
     "output_type": "execute_result"
    }
   ],
   "source": [
    "grad = compute_Batch_GradientDescent(X,theta,y)\n",
    "grad"
   ]
  },
  {
   "cell_type": "code",
   "execution_count": 143,
   "metadata": {},
   "outputs": [
    {
     "data": {
      "text/plain": [
       "array([[-0.12532583],\n",
       "       [-1.55162588],\n",
       "       [-0.9815853 ],\n",
       "       [-0.13210258],\n",
       "       [ 0.0330693 ]])"
      ]
     },
     "execution_count": 143,
     "metadata": {},
     "output_type": "execute_result"
    }
   ],
   "source": [
    "theta = update_weights(grad,0.01,theta)\n",
    "theta"
   ]
  },
  {
   "cell_type": "code",
   "execution_count": 137,
   "metadata": {},
   "outputs": [
    {
     "data": {
      "text/plain": [
       "((150, 5), (5, 1))"
      ]
     },
     "execution_count": 137,
     "metadata": {},
     "output_type": "execute_result"
    }
   ],
   "source": [
    "X.shape,theta.shape"
   ]
  },
  {
   "cell_type": "code",
   "execution_count": null,
   "metadata": {},
   "outputs": [],
   "source": [
    "c = np.ones((10,))\n",
    "c+2"
   ]
  },
  {
   "cell_type": "code",
   "execution_count": 144,
   "metadata": {},
   "outputs": [
    {
     "data": {
      "text/plain": [
       "array([[-1],\n",
       "       [-1],\n",
       "       [-1],\n",
       "       [-1],\n",
       "       [-1],\n",
       "       [-1],\n",
       "       [-1],\n",
       "       [-1],\n",
       "       [-1],\n",
       "       [-1],\n",
       "       [-1],\n",
       "       [-1],\n",
       "       [-1],\n",
       "       [-1],\n",
       "       [-1],\n",
       "       [-1],\n",
       "       [-1],\n",
       "       [-1],\n",
       "       [-1],\n",
       "       [-1],\n",
       "       [-1],\n",
       "       [-1],\n",
       "       [-1],\n",
       "       [-1],\n",
       "       [-1],\n",
       "       [-1],\n",
       "       [-1],\n",
       "       [-1],\n",
       "       [-1],\n",
       "       [-1],\n",
       "       [-1],\n",
       "       [-1],\n",
       "       [-1],\n",
       "       [-1],\n",
       "       [-1],\n",
       "       [-1],\n",
       "       [-1],\n",
       "       [-1],\n",
       "       [-1],\n",
       "       [-1],\n",
       "       [-1],\n",
       "       [-1],\n",
       "       [-1],\n",
       "       [-1],\n",
       "       [-1],\n",
       "       [-1],\n",
       "       [-1],\n",
       "       [-1],\n",
       "       [-1],\n",
       "       [-1],\n",
       "       [ 0],\n",
       "       [ 0],\n",
       "       [ 0],\n",
       "       [ 0],\n",
       "       [ 0],\n",
       "       [ 0],\n",
       "       [ 0],\n",
       "       [ 0],\n",
       "       [ 0],\n",
       "       [ 0],\n",
       "       [ 0],\n",
       "       [ 0],\n",
       "       [ 0],\n",
       "       [ 0],\n",
       "       [ 0],\n",
       "       [ 0],\n",
       "       [ 0],\n",
       "       [ 0],\n",
       "       [ 0],\n",
       "       [ 0],\n",
       "       [ 0],\n",
       "       [ 0],\n",
       "       [ 0],\n",
       "       [ 0],\n",
       "       [ 0],\n",
       "       [ 0],\n",
       "       [ 0],\n",
       "       [ 0],\n",
       "       [ 0],\n",
       "       [ 0],\n",
       "       [ 0],\n",
       "       [ 0],\n",
       "       [ 0],\n",
       "       [ 0],\n",
       "       [ 0],\n",
       "       [ 0],\n",
       "       [ 0],\n",
       "       [ 0],\n",
       "       [ 0],\n",
       "       [ 0],\n",
       "       [ 0],\n",
       "       [ 0],\n",
       "       [ 0],\n",
       "       [ 0],\n",
       "       [ 0],\n",
       "       [ 0],\n",
       "       [ 0],\n",
       "       [ 0],\n",
       "       [ 0],\n",
       "       [ 0],\n",
       "       [ 0],\n",
       "       [ 0],\n",
       "       [ 0],\n",
       "       [ 0],\n",
       "       [ 0],\n",
       "       [ 0],\n",
       "       [ 0],\n",
       "       [ 0],\n",
       "       [ 0],\n",
       "       [ 0],\n",
       "       [ 0],\n",
       "       [ 0],\n",
       "       [ 0],\n",
       "       [ 0],\n",
       "       [ 0],\n",
       "       [ 0],\n",
       "       [ 0],\n",
       "       [ 0],\n",
       "       [ 0],\n",
       "       [ 0],\n",
       "       [ 0],\n",
       "       [ 0],\n",
       "       [ 0],\n",
       "       [ 0],\n",
       "       [ 0],\n",
       "       [ 0],\n",
       "       [ 0],\n",
       "       [ 0],\n",
       "       [ 0],\n",
       "       [ 0],\n",
       "       [ 0],\n",
       "       [ 0],\n",
       "       [ 0],\n",
       "       [ 0],\n",
       "       [ 0],\n",
       "       [ 0],\n",
       "       [ 0],\n",
       "       [ 0],\n",
       "       [ 0],\n",
       "       [ 0],\n",
       "       [ 0],\n",
       "       [ 0],\n",
       "       [ 0],\n",
       "       [ 0],\n",
       "       [ 0],\n",
       "       [ 0],\n",
       "       [ 0],\n",
       "       [ 0],\n",
       "       [ 0],\n",
       "       [ 0]])"
      ]
     },
     "execution_count": 144,
     "metadata": {},
     "output_type": "execute_result"
    }
   ],
   "source": [
    "y-1"
   ]
  },
  {
   "cell_type": "code",
   "execution_count": 155,
   "metadata": {},
   "outputs": [
    {
     "data": {
      "text/plain": [
       "(array([[ -0.        ,  -0.        ,  -0.        , ...,  -0.        ,\n",
       "          -0.        ,  -0.        ],\n",
       "        [ -0.        ,  -0.        ,  -0.        , ...,  -0.        ,\n",
       "          -0.        ,  -0.        ],\n",
       "        [ -0.        ,  -0.        ,  -0.        , ...,  -0.        ,\n",
       "          -0.        ,  -0.        ],\n",
       "        ...,\n",
       "        [-11.65250484, -10.85139769, -10.72418195, ..., -13.77644583,\n",
       "         -13.72009197, -12.83887552],\n",
       "        [-11.65250484, -10.85139769, -10.72418195, ..., -13.77644583,\n",
       "         -13.72009197, -12.83887552],\n",
       "        [-11.65250484, -10.85139769, -10.72418195, ..., -13.77644583,\n",
       "         -13.72009197, -12.83887552]]),\n",
       " array([[-1325.33950636]]),\n",
       " (1, 150),\n",
       " (150, 1),\n",
       " (150, 1))"
      ]
     },
     "execution_count": 155,
     "metadata": {},
     "output_type": "execute_result"
    }
   ],
   "source": [
    "ws = compute_ws(X,theta)\n",
    "p = predict_probability(ws)\n",
    "y=np.reshape(y,(150,1))\n",
    "#a=y*np.log(p).T\n",
    "b=y.T@np.log(p)\n",
    "a,b,y.T.shape,np.log(p).shape,p.shape\n",
    "#(p-y).shape,p.shape,y.shape"
   ]
  },
  {
   "cell_type": "code",
   "execution_count": null,
   "metadata": {},
   "outputs": [],
   "source": [
    "cost_list = []\n",
    "def cost_fn(X,y,theta):\n",
    "    logit,y_hat = compute(X,y,theta)\n",
    "    cost_fn = np.zeros((150,1))\n",
    "    for x in range(obsv):\n",
    "        cost_fn[x] = (y_hat[x]* np.log([logit[x]]))+((1-y_hat[x])*np.log([1-logit[x]]))\n",
    "    cost_fn_avg = sum(-cost_fn)/150\n",
    "    cost_list.append(cost_fn_avg)\n",
    "    \n",
    "    "
   ]
  },
  {
   "cell_type": "code",
   "execution_count": null,
   "metadata": {},
   "outputs": [],
   "source": [
    "def bgd(X,y,theta):\n",
    "    logit,y_hat = compute(X,y,theta)\n",
    "    grad = np.zeros((5,1))\n",
    "    for j in range(params):\n",
    "        grad[j] = sum([(logit[i]-y[i])*X[i][j] for i in range(obsv)])\n",
    "    return grad\n"
   ]
  },
  {
   "cell_type": "code",
   "execution_count": null,
   "metadata": {},
   "outputs": [],
   "source": [
    "def update_theta(grad):\n",
    "    lr = 0.01 \n",
    "    for i in range(params):\n",
    "        theta[i] -= lr*grad[i]\n",
    "    "
   ]
  },
  {
   "cell_type": "code",
   "execution_count": null,
   "metadata": {},
   "outputs": [],
   "source": [
    "epoch = 100\n",
    "for i in range(epoch):\n",
    "    cost_fn(X,y,theta)\n",
    "    grad = bgd(X,y,theta)\n",
    "    update_theta(grad)\n",
    "    \n"
   ]
  },
  {
   "cell_type": "code",
   "execution_count": null,
   "metadata": {},
   "outputs": [],
   "source": [
    "theta"
   ]
  },
  {
   "cell_type": "code",
   "execution_count": null,
   "metadata": {},
   "outputs": [],
   "source": [
    "logit,y_preds = compute(X,y,theta)\n",
    "logit"
   ]
  },
  {
   "cell_type": "code",
   "execution_count": null,
   "metadata": {},
   "outputs": [],
   "source": [
    "sum(y_preds)"
   ]
  }
 ],
 "metadata": {
  "kernelspec": {
   "display_name": "Python 3",
   "language": "python",
   "name": "python3"
  },
  "language_info": {
   "codemirror_mode": {
    "name": "ipython",
    "version": 3
   },
   "file_extension": ".py",
   "mimetype": "text/x-python",
   "name": "python",
   "nbconvert_exporter": "python",
   "pygments_lexer": "ipython3",
   "version": "3.7.6"
  }
 },
 "nbformat": 4,
 "nbformat_minor": 4
}
