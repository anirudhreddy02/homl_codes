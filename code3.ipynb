{
 "cells": [
  {
   "cell_type": "code",
   "execution_count": 62,
   "metadata": {},
   "outputs": [],
   "source": [
    "import numpy as np\n",
    "import matplotlib.pyplot as plt\n",
    "import pandas as pd\n",
    "from sklearn.datasets import load_iris"
   ]
  },
  {
   "cell_type": "code",
   "execution_count": 63,
   "metadata": {},
   "outputs": [],
   "source": [
    "data_iris = load_iris() \n",
    "df = pd.DataFrame(data_iris.data,columns=['a','b','c','d'])\n",
    "df['e'] = 1\n",
    "X_raw = data_iris.data\n",
    "X = np.c_[np.ones((150,1)),X_raw]\n",
    "y= np.array([0 if x == 0 else 1 for x in data_iris.target ])\n",
    "y=np.reshape(y,(150,1))\n",
    "obsv = len(y)\n",
    "params = 5"
   ]
  },
  {
   "cell_type": "code",
   "execution_count": 64,
   "metadata": {},
   "outputs": [],
   "source": [
    "def compute_ws(input_features,weights):\n",
    "    return input_features@weights\n",
    "\n",
    "def predict_probability(weighted_sum):\n",
    "    return 1/(1+np.exp(-weighted_sum))\n",
    "\n",
    "def predict_class(probability,threshold):\n",
    "    y_hat_function = lambda x: 1 if x >=threshold else 0\n",
    "    y_hat = [y_hat_function(x) for x in probability ]\n",
    "    return y_hat\n",
    "\n",
    "def cost_function(input_features,weights):\n",
    "    ws = compute_ws(input_features,weights)\n",
    "    p = predict_probability(ws)\n",
    "    cost_function = ((-y.T@np.log(p))+((y-1).T@np.log(1-p)))/obsv\n",
    "    cost_function_history.append(list(cost_function.flatten()))\n",
    "\n",
    "def compute_Batch_GradientDescent(input_features,weights,y):\n",
    "    ws = compute_ws(input_features,weights)\n",
    "    p = predict_probability(ws)\n",
    "    gradients = ((p-y).T@X)/obsv\n",
    "    return gradients\n",
    "\n",
    "def update_weights(gradients,learning_rate,weights):\n",
    "    gradients = np.reshape(gradients,(5,1))\n",
    "    weights -= learning_rate*gradients\n",
    "    return weights"
   ]
  },
  {
   "cell_type": "code",
   "execution_count": 85,
   "metadata": {},
   "outputs": [
    {
     "data": {
      "image/png": "[encoded data removed]",
      "text/plain": [
       "<Figure size 432x288 with 1 Axes>"
      ]
     },
     "metadata": {
      "needs_background": "light"
     },
     "output_type": "display_data"
    }
   ],
   "source": [
    "epoch = 500\n",
    "cost_function_history = []\n",
    "np.random.seed(42)\n",
    "theta = np.random.rand(5,1)\n",
    "for i in range(epoch):\n",
    "    ws = compute_ws(X,theta)\n",
    "    p = predict_probability(ws)\n",
    "    y_hat = predict_class(p,0.5)\n",
    "    cost_function(X,theta)\n",
    "    gradients = compute_Batch_GradientDescent(X,theta,y)\n",
    "    theta = update_weights(gradients,0.01,theta)\n",
    "plt.plot(range(epoch),cost_function_history)\n",
    "plt.show()"
   ]
  },
  {
   "cell_type": "code",
   "execution_count": null,
   "metadata": {},
   "outputs": [],
   "source": []
  },
  {
   "cell_type": "code",
   "execution_count": null,
   "metadata": {},
   "outputs": [],
   "source": []
  }
 ],
 "metadata": {
  "kernelspec": {
   "display_name": "Python 3",
   "language": "python",
   "name": "python3"
  },
  "language_info": {
   "codemirror_mode": {
    "name": "ipython",
    "version": 3
   },
   "file_extension": ".py",
   "mimetype": "text/x-python",
   "name": "python",
   "nbconvert_exporter": "python",
   "pygments_lexer": "ipython3",
   "version": "3.7.6"
  }
 },
 "nbformat": 4,
 "nbformat_minor": 4
}
